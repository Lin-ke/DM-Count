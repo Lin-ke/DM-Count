{
 "cells": [
  {
   "cell_type": "code",
   "execution_count": 4,
   "metadata": {},
   "outputs": [
    {
     "data": {
      "text/plain": [
       "(727, 3)"
      ]
     },
     "execution_count": 4,
     "metadata": {},
     "output_type": "execute_result"
    }
   ],
   "source": [
    "import numpy as np\n",
    "a = np.load(\"/home/home/qinnan/dataset/UCF-Train-Val-Test/train/img_0806.npy\")\n",
    "from matplotlib import pyplot as plt\n",
    "a.shape"
   ]
  },
  {
   "cell_type": "code",
   "execution_count": null,
   "metadata": {},
   "outputs": [],
   "source": [
    "def create_gt(shape, gt):\n",
    "        k = np.zeros((shape[0], shape[1]))\n",
    "        for i in range(0, len(gt)):\n",
    "            if int(gt[i][1]) < shape[0] and int(gt[i][0]) < shape[1]:\n",
    "                k[int(gt[i][1]), int(gt[i][0])] = 1\n",
    "        return k"
   ]
  }
 ],
 "metadata": {
  "kernelspec": {
   "display_name": "torch",
   "language": "python",
   "name": "python3"
  },
  "language_info": {
   "codemirror_mode": {
    "name": "ipython",
    "version": 3
   },
   "file_extension": ".py",
   "mimetype": "text/x-python",
   "name": "python",
   "nbconvert_exporter": "python",
   "pygments_lexer": "ipython3",
   "version": "3.9.13"
  },
  "orig_nbformat": 4
 },
 "nbformat": 4,
 "nbformat_minor": 2
}
